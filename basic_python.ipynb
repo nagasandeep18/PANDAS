{
  "nbformat": 4,
  "nbformat_minor": 0,
  "metadata": {
    "colab": {
      "name": "basic_python.ipynb",
      "provenance": [],
      "collapsed_sections": [],
      "include_colab_link": true
    },
    "kernelspec": {
      "name": "python3",
      "display_name": "Python 3"
    },
    "language_info": {
      "name": "python"
    }
  },
  "cells": [
    {
      "cell_type": "markdown",
      "metadata": {
        "id": "view-in-github",
        "colab_type": "text"
      },
      "source": [
        "<a href=\"https://colab.research.google.com/github/nagasandeep18/PANDAS/blob/master/basic_python.ipynb\" target=\"_parent\"><img src=\"https://colab.research.google.com/assets/colab-badge.svg\" alt=\"Open In Colab\"/></a>"
      ]
    },
    {
      "cell_type": "markdown",
      "source": [
        "The basic python concepts:\n",
        "\n",
        "\n",
        "1.   Data Types\n",
        "2.   Operators\n",
        "3.   Flow control\n",
        "4.   Functions\n",
        "5.   File Handling \n",
        "\n",
        "\n",
        "\n",
        "\n",
        "\n",
        "\n",
        "\n"
      ],
      "metadata": {
        "id": "0jDvyjJnKR0_"
      }
    },
    {
      "cell_type": "markdown",
      "source": [
        "**1.Data Types**:\n",
        "1. integer\n",
        "2.float\n",
        "3.boolean\n",
        "4.list,sets,tuples,dictionary\n",
        "\n",
        "\n",
        "\n",
        "\n"
      ],
      "metadata": {
        "id": "GQJrCH_mMoS0"
      }
    },
    {
      "cell_type": "code",
      "source": [
        "#data types\n",
        "i=20                    #natural numbers \n",
        "j=20.2                  #decimal numbers\n",
        "s='kiran'\n",
        "k=True                  #bool form (True or False)\n",
        "l=[1,2,'e',3]           #set not arrray because array has same datatypes\n",
        "m=set(l)                #reduces to unique values\n",
        "t=(i,j,l,m,k)           #tuple no mutations can be done\n",
        "d={1:34,'a': [34,33,2]} #contains keys and values\n",
        "\n",
        "#checking the type of data\n",
        "print(\"i is\",type(i))\n",
        "print(\"j is\",type(j))\n",
        "print(\"k is\",type(k))\n",
        "print('l is',type(l))\n",
        "print(\"m is\",type(m))\n",
        "print(\"t is\",type(t))\n",
        "print(\"d is\",type(d))\n",
        "print(\"s is\",type(s))\n"
      ],
      "metadata": {
        "colab": {
          "base_uri": "https://localhost:8080/"
        },
        "id": "OXMSgnLTGmMq",
        "outputId": "2908d55a-e724-42ed-dbb5-d7a39027646e"
      },
      "execution_count": null,
      "outputs": [
        {
          "output_type": "stream",
          "name": "stdout",
          "text": [
            "i is <class 'int'>\n",
            "j is <class 'float'>\n",
            "k is <class 'bool'>\n",
            "l is <class 'list'>\n",
            "m is <class 'set'>\n",
            "t is <class 'tuple'>\n",
            "d is <class 'dict'>\n",
            "s is <class 'str'>\n"
          ]
        }
      ]
    },
    {
      "cell_type": "markdown",
      "source": [
        "**task** : give values to a list  and convert it to set and convert that set into tupple and then convert that tuple into dictionary."
      ],
      "metadata": {
        "id": "VHx5nUthMC3O"
      }
    },
    {
      "cell_type": "code",
      "source": [
        "#construction a list\n",
        "lists=[1,2,1,5,3,5,7,6,8,8,1]\n",
        "#changing it into set\n",
        "sets = set(lists)\n",
        "print('the list is',lists,'its set is',sets)\n",
        "#changing set into tuple\n",
        "tuples = tuple(sets)\n",
        "print('the set is',sets,'its tuple is',tuples)\n",
        "#changing tuple into dictionary\n",
        "#dictionary = dict(tuples) -> inference tuple even  cant change the data type \n",
        "#print('the tuple is',tuples,'the dictionary',dictionary)\n",
        "list1=[1,2,3]\n",
        "list2=['a','b','c']\n",
        "dictionary = dict(zip(list1,list2))#using inbuild zip function\n",
        "print(\"the dictionary is\",dictionary)"
      ],
      "metadata": {
        "colab": {
          "base_uri": "https://localhost:8080/"
        },
        "id": "fd__WQirOYQ9",
        "outputId": "a4a907df-7a5e-447a-bc8c-7eebd20b927e"
      },
      "execution_count": null,
      "outputs": [
        {
          "output_type": "stream",
          "name": "stdout",
          "text": [
            "the list is [1, 2, 1, 5, 3, 5, 7, 6, 8, 8, 1] its set is {1, 2, 3, 5, 6, 7, 8}\n",
            "the set is {1, 2, 3, 5, 6, 7, 8} its tuple is (1, 2, 3, 5, 6, 7, 8)\n",
            "the dictionary is {1: 'a', 2: 'b', 3: 'c'}\n"
          ]
        }
      ]
    },
    {
      "cell_type": "markdown",
      "source": [
        "--------------------------------------------------------------------------------\n",
        "**2.operators**"
      ],
      "metadata": {
        "id": "DQ4MsI4gXEOE"
      }
    },
    {
      "cell_type": "code",
      "source": [
        " a=1\n",
        " b=2\n",
        " c=a+b  #addition\n",
        " d=a-b  #substraction \n",
        " e=a*b  #multiplication\n",
        " g=a**b #power\n",
        " f=a/b  #division\n",
        " h=a//b #\n",
        " i=a%b  #remainder\n",
        " print(\"a=\",a,\",b=\",b)\n",
        " print(\"addition = \",c)\n",
        " print(\"substraction = \",d)\n",
        " print(\"multiplication = \",e)\n",
        " print(\"power = \",g)\n",
        " print(\"division=\",f)\n",
        " print(\"integer of division = \",h)\n",
        " print('remainder =',i)"
      ],
      "metadata": {
        "colab": {
          "base_uri": "https://localhost:8080/"
        },
        "id": "xKXOo1rSTXVV",
        "outputId": "cc7798f5-3db6-48cd-afa1-0a55ec150d1f"
      },
      "execution_count": null,
      "outputs": [
        {
          "output_type": "stream",
          "name": "stdout",
          "text": [
            "a= 1 ,b= 2\n",
            "addition =  3\n",
            "substraction =  -1\n",
            "multiplication =  2\n",
            "power =  1\n",
            "division= 0.5\n",
            "integer of division =  0\n",
            "remainder = 1\n"
          ]
        }
      ]
    },
    {
      "cell_type": "code",
      "source": [
        "#bool opterators\n",
        "a=1\n",
        "b=2\n",
        "state1 = (a==b)\n",
        "state2 = (a!=b)\n",
        "state3 = (a>b)\n",
        "state4 = (a<b)\n",
        "print(\"state1=\",state1,\",state2=\",state2,\",state3=\",state3,\",state4=\",state4)\n",
        "state5= (True)and(False)\n",
        "state6= (True)or(False)\n",
        "print(\"state5=\",state5,\",state6=\",state6)"
      ],
      "metadata": {
        "colab": {
          "base_uri": "https://localhost:8080/"
        },
        "id": "YqztD3tiqagy",
        "outputId": "af9154df-757f-45f7-a88d-d5b0f5c92cbe"
      },
      "execution_count": null,
      "outputs": [
        {
          "output_type": "stream",
          "name": "stdout",
          "text": [
            "state1= False ,state2= True ,state3= False ,state4= True\n",
            "state5= False ,state6= True\n"
          ]
        }
      ]
    },
    {
      "cell_type": "markdown",
      "source": [
        "3.**Flow control**"
      ],
      "metadata": {
        "id": "zaIIyWfotFKq"
      }
    },
    {
      "cell_type": "markdown",
      "source": [
        "**if,else,elif**"
      ],
      "metadata": {
        "id": "U9PB-xuitpwb"
      }
    },
    {
      "cell_type": "markdown",
      "source": [
        "write a code which differentiate the given number is odd and even number."
      ],
      "metadata": {
        "id": "8Wlg-ecHumH1"
      }
    },
    {
      "cell_type": "code",
      "source": [
        "x =int(input(\"enter a number = \"))\n",
        "if(x%2==0):\n",
        "  print(x,\"is even\")\n",
        "else:\n",
        "  print(x,\"is odd\")\n"
      ],
      "metadata": {
        "colab": {
          "base_uri": "https://localhost:8080/"
        },
        "id": "B17YNyh_rLv7",
        "outputId": "7706efdf-4af5-48de-c90f-c261588003bd"
      },
      "execution_count": null,
      "outputs": [
        {
          "output_type": "stream",
          "name": "stdout",
          "text": [
            "enter a number = 23\n",
            "23 is odd\n"
          ]
        }
      ]
    },
    {
      "cell_type": "markdown",
      "source": [
        "**note**: if we use \"if\" condition multiple times only if it is compulsary to check every condition,\n",
        "      if there is no compulsary we use \"elif\" condition which reduces iterations and time "
      ],
      "metadata": {
        "id": "Y-gXa6HUwQj7"
      }
    },
    {
      "cell_type": "markdown",
      "source": [
        "write a code to check the given number is positive or negative or zero."
      ],
      "metadata": {
        "id": "qca47EYwxgHL"
      }
    },
    {
      "cell_type": "code",
      "source": [
        "x=int(input(\"enter a number =\"))\n",
        "if(x<0):\n",
        "  print(x,\"is negative number\")\n",
        "elif(x>0):\n",
        "  print(x,\"is positive number\")\n",
        "else:\n",
        "  print(x,\"is zero\")"
      ],
      "metadata": {
        "colab": {
          "base_uri": "https://localhost:8080/"
        },
        "id": "e1iamy0rwGee",
        "outputId": "43b30a8b-ab98-47ec-dcf2-7c1b4dc13a56"
      },
      "execution_count": null,
      "outputs": [
        {
          "output_type": "stream",
          "name": "stdout",
          "text": [
            "enter a number =7\n",
            "7 is positive number\n"
          ]
        }
      ]
    },
    {
      "cell_type": "markdown",
      "source": [
        "**for loop**"
      ],
      "metadata": {
        "id": "xE50ZAcd5BHG"
      }
    },
    {
      "cell_type": "markdown",
      "source": [
        "write a code using for loop to print squares of first 10 natural numbers "
      ],
      "metadata": {
        "id": "un5dniO08nja"
      }
    },
    {
      "cell_type": "code",
      "source": [
        "for i in range(10):\n",
        "  print(i,\"'s square is\",i**2)"
      ],
      "metadata": {
        "id": "uoQE3564ycH9",
        "colab": {
          "base_uri": "https://localhost:8080/"
        },
        "outputId": "02693904-90c9-4ef7-8b6d-aa9aac75ce9c"
      },
      "execution_count": null,
      "outputs": [
        {
          "output_type": "stream",
          "name": "stdout",
          "text": [
            "0 's square is 0\n",
            "1 's square is 1\n",
            "2 's square is 4\n",
            "3 's square is 9\n",
            "4 's square is 16\n",
            "5 's square is 25\n",
            "6 's square is 36\n",
            "7 's square is 49\n",
            "8 's square is 64\n",
            "9 's square is 81\n"
          ]
        }
      ]
    },
    {
      "cell_type": "markdown",
      "source": [
        "write a code using for loop to separate odd and even numbers in a given list to separate lists."
      ],
      "metadata": {
        "id": "Qm3dfBPx9LtI"
      }
    },
    {
      "cell_type": "code",
      "source": [
        "x=[2,5,1,7,4,3,6,3,4,5,7,654,3,8,9,0,54] #given list\n",
        "odd=[]                                   #empty lists    \n",
        "even=[]\n",
        "for i in x:\n",
        "  if(i%2==0):\n",
        "    even.append(i)\n",
        "  else:\n",
        "    odd.append(i)\n",
        "print(\"list of even numbers are\",even)\n",
        "print(\"list of odd numbers are\",odd)\n",
        "\n"
      ],
      "metadata": {
        "colab": {
          "base_uri": "https://localhost:8080/"
        },
        "id": "ZI6PQ1Z_9Fg7",
        "outputId": "d42abd44-5a83-4f84-a2df-f26effbe3d6d"
      },
      "execution_count": null,
      "outputs": [
        {
          "output_type": "stream",
          "name": "stdout",
          "text": [
            "list of even numbers are [2, 4, 6, 4, 654, 8, 0, 54]\n",
            "list of odd numbers are [5, 1, 7, 3, 3, 5, 7, 3, 9]\n"
          ]
        }
      ]
    },
    {
      "cell_type": "markdown",
      "source": [
        "**break**:\n",
        "\n",
        "write a code to creat a separate list from a given list if the sum of integers list  is 20 "
      ],
      "metadata": {
        "id": "PaGL9_wjAe67"
      }
    },
    {
      "cell_type": "code",
      "source": [
        "x=[1,4,3,5,2,6,3,6,6]\n",
        "sum20_list=[]\n",
        "k=0\n",
        "for i in x:\n",
        "  k=k+i\n",
        "  sum20_list.append(i)\n",
        "  if(k>20):\n",
        "    break\n",
        "\n",
        "print(\"the separated array is:\",sum20_list)"
      ],
      "metadata": {
        "colab": {
          "base_uri": "https://localhost:8080/"
        },
        "id": "z7uQiMQE-mId",
        "outputId": "628c72fc-83b5-4192-ee8a-64cd54d35238"
      },
      "execution_count": null,
      "outputs": [
        {
          "output_type": "stream",
          "name": "stdout",
          "text": [
            "the separated array is: [1, 4, 3, 5, 2, 6]\n"
          ]
        }
      ]
    },
    {
      "cell_type": "markdown",
      "source": [
        "**Continue**:\n",
        "write a code to print 5 table in which \"5 X 2 = 10\" should be eliminated."
      ],
      "metadata": {
        "id": "83ac0ZEpCtuX"
      }
    },
    {
      "cell_type": "code",
      "source": [
        "for i in range(10):\n",
        "  if(i==2):\n",
        "    continue\n",
        "  print(\"5 x \",i,\"=\",5*i)"
      ],
      "metadata": {
        "colab": {
          "base_uri": "https://localhost:8080/"
        },
        "id": "htkVSnz5CmGf",
        "outputId": "b794558a-bb4c-455f-8cd1-099968e23e6f"
      },
      "execution_count": null,
      "outputs": [
        {
          "output_type": "stream",
          "name": "stdout",
          "text": [
            "5 x  0 = 0\n",
            "5 x  1 = 5\n",
            "5 x  3 = 15\n",
            "5 x  4 = 20\n",
            "5 x  5 = 25\n",
            "5 x  6 = 30\n",
            "5 x  7 = 35\n",
            "5 x  8 = 40\n",
            "5 x  9 = 45\n"
          ]
        }
      ]
    },
    {
      "cell_type": "markdown",
      "source": [
        "**while loop**:\n",
        "write a code using while loop to know the given number is prime or not\n",
        "\n"
      ],
      "metadata": {
        "id": "FB-3wy1-EkzC"
      }
    },
    {
      "cell_type": "code",
      "source": [
        "x= int(input(\"enter a number = \"))\n",
        "k=1\n",
        "while(x!=k+1): #my plan is loop should  run to check x%k==0 for every number\n",
        "               # except 1 and itself.\n",
        "  k=k+1\n",
        "  if(x%k==0):\n",
        "    print(x,'is not prime')\n",
        "    break\n",
        "else:\n",
        "  print(x,'is prime') "
      ],
      "metadata": {
        "colab": {
          "base_uri": "https://localhost:8080/"
        },
        "id": "38M61cJeEKqp",
        "outputId": "4f3e7542-6035-44b7-bfee-a7ee95aae6f3"
      },
      "execution_count": null,
      "outputs": [
        {
          "output_type": "stream",
          "name": "stdout",
          "text": [
            "enter a number = 6\n",
            "6 is not prime\n"
          ]
        }
      ]
    },
    {
      "cell_type": "markdown",
      "source": [
        "**4.FUNCTIONS**"
      ],
      "metadata": {
        "id": "9SzwSA5_9XGW"
      }
    },
    {
      "cell_type": "markdown",
      "source": [
        "def stands for defination\n",
        "\n",
        "use: reuse the code without repeatition. "
      ],
      "metadata": {
        "id": "tT9Ck0ET9fK3"
      }
    },
    {
      "cell_type": "markdown",
      "source": [
        "write code to define a function which takes tuples and dictionary in arguments"
      ],
      "metadata": {
        "id": "s96nP6nCB2Bx"
      }
    },
    {
      "cell_type": "code",
      "source": [
        "def student_info(*args,**kwargs):\n",
        "  print(args)\n",
        "  print(kwargs)\n",
        "\n",
        "student_info('maths','art',name='sai',age=22) "
      ],
      "metadata": {
        "id": "ct8uBC1AGvm3",
        "colab": {
          "base_uri": "https://localhost:8080/"
        },
        "outputId": "99b27e24-70f3-450a-a2cf-246f2b2408eb"
      },
      "execution_count": null,
      "outputs": [
        {
          "output_type": "stream",
          "name": "stdout",
          "text": [
            "('maths', 'art')\n",
            "{'name': 'sai', 'age': 22}\n"
          ]
        }
      ]
    },
    {
      "cell_type": "markdown",
      "source": [
        "write a code to return factorial of given number using for loop."
      ],
      "metadata": {
        "id": "1sRe37C7Cixz"
      }
    },
    {
      "cell_type": "code",
      "source": [
        "def factorial():\n",
        "  x=int(input(\"enter a number =\"))\n",
        "  t=1\n",
        "  for i in range(x):\n",
        "    t=t*x\n",
        "    x=x-1\n",
        "  return t\n",
        "factorial()"
      ],
      "metadata": {
        "colab": {
          "base_uri": "https://localhost:8080/"
        },
        "id": "6RddBi2bCZMH",
        "outputId": "b291015b-6ea1-426e-f7fb-c4a4c30195ac"
      },
      "execution_count": null,
      "outputs": [
        {
          "name": "stdout",
          "output_type": "stream",
          "text": [
            "enter a number =5\n"
          ]
        },
        {
          "output_type": "execute_result",
          "data": {
            "text/plain": [
              "120"
            ]
          },
          "metadata": {},
          "execution_count": 3
        }
      ]
    },
    {
      "cell_type": "markdown",
      "source": [
        "write a code to return factorial of given number using recursion"
      ],
      "metadata": {
        "id": "u4yihY6WEXWh"
      }
    },
    {
      "cell_type": "code",
      "source": [
        "x=int(input('enter a number ='))\n",
        "def factorial(x):\n",
        "  if x>1:\n",
        "    return x*factorial(x-1)\n",
        "  elif x==1:\n",
        "    return 1\n",
        "factorial(x)"
      ],
      "metadata": {
        "colab": {
          "base_uri": "https://localhost:8080/"
        },
        "id": "A3ipW_7_EGdT",
        "outputId": "381711d3-533f-425c-cd9d-09e602313997"
      },
      "execution_count": null,
      "outputs": [
        {
          "name": "stdout",
          "output_type": "stream",
          "text": [
            "enter a number =5\n"
          ]
        },
        {
          "output_type": "execute_result",
          "data": {
            "text/plain": [
              "120"
            ]
          },
          "metadata": {},
          "execution_count": 6
        }
      ]
    },
    {
      "cell_type": "markdown",
      "source": [
        "\n",
        "\n",
        "\n",
        "\n",
        " **5.File handling**"
      ],
      "metadata": {
        "id": "QcSn8fCbGKdG"
      }
    },
    {
      "cell_type": "markdown",
      "source": [
        "create a text file , pen it in read mode:\n",
        "\n",
        "1. assign a variable which holds the whole data in file\n",
        "2. assign a variable which holds the first line of the file\n",
        "3. print the present position of pointer in file"
      ],
      "metadata": {
        "id": "gsH5TKAJFcwP"
      }
    },
    {
      "cell_type": "code",
      "source": [
        "#to create a file first we should open the file in write mode\n",
        "f =open('text.txt','w')\n",
        "f.write(\"i love maths, I do the best in it \\n all the best\")\n",
        "f.close()"
      ],
      "metadata": {
        "id": "ketKRg4RFhqC"
      },
      "execution_count": null,
      "outputs": []
    },
    {
      "cell_type": "code",
      "source": [
        "f=open('text.txt','r')\n",
        "print('Name of the file is',f.name)\n",
        "print('mode of the file is',f.mode)\n",
        "print('whole data in the file is : \\n',f.read())\n",
        "f.seek(0)\n",
        "print('the first line of the file is \\n:',f.readline())\n",
        "print(\"the pointer is at \\n\",f.tell())\n",
        "f.close()\n"
      ],
      "metadata": {
        "colab": {
          "base_uri": "https://localhost:8080/"
        },
        "id": "ga4QpVCDHDsY",
        "outputId": "0087f128-97ba-4ffa-dc8b-4e59aedffb41"
      },
      "execution_count": null,
      "outputs": [
        {
          "output_type": "stream",
          "name": "stdout",
          "text": [
            "Name of the file is text.txt\n",
            "mode of the file is r\n",
            "whole data in the file is : \n",
            " i love maths, I do the best in it \n",
            " all the best\n",
            "the first line of the file is \n",
            ": i love maths, I do the best in it \n",
            "\n",
            "the pointer is at \n",
            " 35\n"
          ]
        }
      ]
    },
    {
      "cell_type": "markdown",
      "source": [
        "use **context manager**\n",
        "\n",
        "Create a text file, open in write mode:\n",
        "1. Write 'test'\n",
        "2. replace the first character t with r "
      ],
      "metadata": {
        "id": "0ztypRr8nkiF"
      }
    },
    {
      "cell_type": "code",
      "source": [
        "with open('text2.txt','r+') as f: #'r+' opens the file in both read and write mode\n",
        "  f.write('test')\n",
        "  f.seek(0)\n",
        "  print('the text in file is:',f.read())\n",
        "  f.seek(0)\n",
        "  f.write('r')\n",
        "  f.seek(0)\n",
        "  print('the text in file is:',f.read())"
      ],
      "metadata": {
        "id": "cBNuau0PL4El",
        "colab": {
          "base_uri": "https://localhost:8080/"
        },
        "outputId": "3a564f1b-2dca-42b2-def2-cb99e4e14ecc"
      },
      "execution_count": null,
      "outputs": [
        {
          "output_type": "stream",
          "name": "stdout",
          "text": [
            "the text in file is: test\n",
            "the text in file is: rest\n"
          ]
        }
      ]
    },
    {
      "cell_type": "markdown",
      "source": [
        "**copy file**-copy the whole data in one file and paste it in another file"
      ],
      "metadata": {
        "id": "FQpRrODZqPZc"
      }
    },
    {
      "cell_type": "code",
      "source": [
        "with open('text.txt','r') as rf:\n",
        "  with open('test_copy.txt','w') as wf:\n",
        "    for line in rf:\n",
        "      wf.write(line)"
      ],
      "metadata": {
        "id": "HV6m_Anmo9kg"
      },
      "execution_count": null,
      "outputs": []
    },
    {
      "cell_type": "code",
      "source": [
        ""
      ],
      "metadata": {
        "id": "cvYkmWklq6WL"
      },
      "execution_count": null,
      "outputs": []
    }
  ]
}